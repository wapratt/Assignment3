{
 "cells": [
  {
   "cell_type": "code",
   "execution_count": 1,
   "metadata": {},
   "outputs": [],
   "source": [
    "import xarray as xr\n",
    "import matplotlib.pyplot as plt\n",
    "import numpy as np\n",
    "import pandas as pd\n",
    "from scipy.stats import ttest_ind\n",
    "\n",
    "import cartopy.crs as ccrs\n",
    "import cartopy.mpl.ticker as cticker\n",
    "from cartopy.util import add_cyclic_point\n",
    "\n",
    "import warnings\n",
    "warnings.simplefilter(action='ignore', category=FutureWarning)"
   ]
  },
  {
   "cell_type": "code",
   "execution_count": 2,
   "metadata": {},
   "outputs": [
    {
     "name": "stderr",
     "output_type": "stream",
     "text": [
      "/home/wpratt3/miniforge/envs/climate/lib/python3.12/site-packages/xarray/coding/times.py:992: SerializationWarning: Unable to decode time axis into full numpy.datetime64 objects, continuing using cftime.datetime objects instead, reason: dates out of range\n",
      "  dtype = _decode_cf_datetime_dtype(data, units, calendar, self.use_cftime)\n",
      "/home/wpratt3/miniforge/envs/climate/lib/python3.12/site-packages/xarray/core/indexing.py:526: SerializationWarning: Unable to decode time axis into full numpy.datetime64 objects, continuing using cftime.datetime objects instead, reason: dates out of range\n",
      "  return np.asarray(self.get_duck_array(), dtype=dtype)\n"
     ]
    }
   ],
   "source": [
    "ds_soil = xr.open_dataset('/home/wpratt3/Clim680/Data/soilw.mon.1991-2020.ltm.v2.nc')\n",
    "ds_climo = ds_soil.groupby('time.month').mean()\n",
    "ds_anoms = ds_soil.groupby('time.month')-ds_climo"
   ]
  },
  {
   "cell_type": "code",
   "execution_count": 3,
   "metadata": {},
   "outputs": [],
   "source": [
    "file_arctic_index = '/home/wpratt3/Clim680/Assignment3/arctic_index.txt'\n",
    "ds_arctic_index = pd.read_csv(file_arctic_index).set_index('Year')"
   ]
  },
  {
   "cell_type": "code",
   "execution_count": 4,
   "metadata": {},
   "outputs": [],
   "source": [
    "#Subset the time of the arctic oscilliation data to match the soils (1991-2020)\n",
    "ds_arctic_index_years = ds_arctic_index.loc[1991:2020]"
   ]
  },
  {
   "cell_type": "code",
   "execution_count": 20,
   "metadata": {},
   "outputs": [
    {
     "data": {
      "text/plain": [
       "[np.int64(50), np.int64(49), np.int64(261)]"
      ]
     },
     "execution_count": 20,
     "metadata": {},
     "output_type": "execute_result"
    }
   ],
   "source": [
    "#Categorize the arctic oscillation by month\n",
    "positive = ds_arctic_index_years.where(ds_arctic_index_years >= 1)\n",
    "negative = ds_arctic_index_years.where(ds_arctic_index_years <= -1)\n",
    "neutral = ds_arctic_index_years.where((ds_arctic_index_years >= -1) & (ds_arctic_index_years <= 1))\n",
    "\n",
    "positive_counts = positive.count().sum().sum()\n",
    "negative_counts = negative.count().sum().sum()\n",
    "neutral_counts = neutral.count().sum().sum()\n",
    "\n",
    "counts=[positive_counts,\n",
    "        negative_counts,\n",
    "        neutral_counts]\n"
   ]
  },
  {
   "cell_type": "code",
   "execution_count": 6,
   "metadata": {},
   "outputs": [
    {
     "ename": "TypeError",
     "evalue": "DataFrame.dropna() got an unexpected keyword argument 'dim'",
     "output_type": "error",
     "traceback": [
      "\u001b[0;31m---------------------------------------------------------------------------\u001b[0m",
      "\u001b[0;31mTypeError\u001b[0m                                 Traceback (most recent call last)",
      "\u001b[1;32m/home/wpratt3/Clim680/Assignment3/Assignment3.ipynb Cell 6\u001b[0m line \u001b[0;36m2\n\u001b[1;32m      <a href='vscode-notebook-cell://ondemand.orc.gmu.edu/home/wpratt3/Clim680/Assignment3/Assignment3.ipynb#W5sdnNjb2RlLXJlbW90ZQ%3D%3D?line=0'>1</a>\u001b[0m \u001b[39m#How will I make linkage between time in xarray time variable in my soils data & year/month in numpy array for my index data?\u001b[39;00m\n\u001b[0;32m----> <a href='vscode-notebook-cell://ondemand.orc.gmu.edu/home/wpratt3/Clim680/Assignment3/Assignment3.ipynb#W5sdnNjb2RlLXJlbW90ZQ%3D%3D?line=1'>2</a>\u001b[0m positive_soil \u001b[39m=\u001b[39m ds_anoms\u001b[39m.\u001b[39msel(time\u001b[39m=\u001b[39mpositive\u001b[39m.\u001b[39;49mdropna(dim\u001b[39m=\u001b[39;49m\u001b[39m'\u001b[39;49m\u001b[39mtime\u001b[39;49m\u001b[39m'\u001b[39;49m)[\u001b[39m'\u001b[39m\u001b[39mtime\u001b[39m\u001b[39m'\u001b[39m])\u001b[39m.\u001b[39mmean(dim\u001b[39m=\u001b[39m\u001b[39m'\u001b[39m\u001b[39mtime\u001b[39m\u001b[39m'\u001b[39m)\n\u001b[1;32m      <a href='vscode-notebook-cell://ondemand.orc.gmu.edu/home/wpratt3/Clim680/Assignment3/Assignment3.ipynb#W5sdnNjb2RlLXJlbW90ZQ%3D%3D?line=2'>3</a>\u001b[0m negative_soil \u001b[39m=\u001b[39m ds_anoms\u001b[39m.\u001b[39msel(time\u001b[39m=\u001b[39mnegative\u001b[39m.\u001b[39mdropna(dim\u001b[39m=\u001b[39m\u001b[39m'\u001b[39m\u001b[39mtime\u001b[39m\u001b[39m'\u001b[39m)[\u001b[39m'\u001b[39m\u001b[39mtime\u001b[39m\u001b[39m'\u001b[39m])\u001b[39m.\u001b[39mmean(dim\u001b[39m=\u001b[39m\u001b[39m'\u001b[39m\u001b[39mtime\u001b[39m\u001b[39m'\u001b[39m)\n\u001b[1;32m      <a href='vscode-notebook-cell://ondemand.orc.gmu.edu/home/wpratt3/Clim680/Assignment3/Assignment3.ipynb#W5sdnNjb2RlLXJlbW90ZQ%3D%3D?line=3'>4</a>\u001b[0m neutral_soil \u001b[39m=\u001b[39m ds_anoms\u001b[39m.\u001b[39msel(time\u001b[39m=\u001b[39mneutral\u001b[39m.\u001b[39mdropna(dim\u001b[39m=\u001b[39m\u001b[39m'\u001b[39m\u001b[39mtime\u001b[39m\u001b[39m'\u001b[39m)[\u001b[39m'\u001b[39m\u001b[39mtime\u001b[39m\u001b[39m'\u001b[39m])\u001b[39m.\u001b[39mmean(dim\u001b[39m=\u001b[39m\u001b[39m'\u001b[39m\u001b[39mtime\u001b[39m\u001b[39m'\u001b[39m)\n",
      "\u001b[0;31mTypeError\u001b[0m: DataFrame.dropna() got an unexpected keyword argument 'dim'"
     ]
    }
   ],
   "source": [
    "#How will I make linkage between time in xarray time variable in my soils data & year/month in numpy array for my index data?\n",
    "positive_soil = ds_anoms.sel(time=positive.dropna(dim='time')['time']).mean(dim='time')\n",
    "negative_soil = ds_anoms.sel(time=negative.dropna(dim='time')['time']).mean(dim='time')\n",
    "neutral_soil = ds_anoms.sel(time=neutral.dropna(dim='time')['time']).mean(dim='time')\n",
    "\n",
    "comp_soil = [positive_soil, negative_soil, neutral_soil]\n",
    "comp_soil"
   ]
  },
  {
   "cell_type": "code",
   "execution_count": null,
   "metadata": {},
   "outputs": [],
   "source": [
    "labels=['Positive','Negative', 'Neutral']\n",
    "clevs = np.arange(-2.0,2.1,0.25)\n",
    "\n",
    "# Define the figure and each axis for the 3 rows and 3 columns\n",
    "fig, axs = plt.subplots(nrows=3,ncols=1,\n",
    "                        subplot_kw={'projection': ccrs.PlateCarree()},\n",
    "                        figsize=(8.5,11))\n",
    "\n",
    "# axs is a 2 dimensional array of `GeoAxes`.  \n",
    "# We will flatten it into a 1-D array (just 3 rows)\n",
    "axs = axs.flatten()\n",
    "\n",
    "#Loop over all of the seasons and plot\n",
    "for i,ao in enumerate(comp_soil):\n",
    "\n",
    "        # Select the season\n",
    "        data = comp_soil[i]\n",
    "\n",
    "        # Add the cyclic point\n",
    "        data,lons = add_cyclic_point(data,coord=comp_soil[i]['lon'])\n",
    "\n",
    "        # Contour plot\n",
    "        cs=axs[i].contourf(lons,comp_soil[i]['lat'],data,clevs,\n",
    "                          transform = ccrs.PlateCarree(),\n",
    "                          cmap='BrBG',extend='both')\n",
    "\n",
    "       # Longitude labels\n",
    "        axs[i].set_xticks(np.arange(-180,181,60), crs=ccrs.PlateCarree())\n",
    "        lon_formatter = cticker.LongitudeFormatter()\n",
    "        axs[i].xaxis.set_major_formatter(lon_formatter)\n",
    "\n",
    "        # Latitude labels\n",
    "        axs[i].set_yticks(np.arange(-90,91,30), crs=ccrs.PlateCarree())\n",
    "        lat_formatter = cticker.LatitudeFormatter()\n",
    "        axs[i].yaxis.set_major_formatter(lat_formatter)\n",
    "\n",
    "        \n",
    "        # Title each subplot with the name of the season\n",
    "        axs[i].set_title(labels[i]+' ('+str(counts[i])+')')\n",
    "\n",
    "        # Draw the coastines for each subplot\n",
    "        axs[i].coastlines()\n",
    "        \n",
    "# Adjust the location of the subplots \n",
    "# on the page to make room for the colorbar\n",
    "fig.subplots_adjust(bottom=0.25, top=0.9, left=0.05, right=0.95,\n",
    "                    wspace=0.1, hspace=0.5)\n",
    "\n",
    "# Add a colorbar axis at the bottom of the graph\n",
    "cbar_ax = fig.add_axes([0.25, 0.18, 0.5, 0.012])\n",
    "\n",
    "# Draw the colorbar\n",
    "cbar = fig.colorbar(cs,cax=cbar_ax,orientation='horizontal',label='mm')\n",
    "\n",
    "# Add a big title at the top\n",
    "plt.suptitle('Composite Soil Moisture Anomalies during Arctic Oscillation') "
   ]
  },
  {
   "cell_type": "code",
   "execution_count": null,
   "metadata": {},
   "outputs": [],
   "source": [
    "diff_soil =[positive_soil-neutral_soil, \n",
    "             negative_soil-neutral_soil]"
   ]
  },
  {
   "cell_type": "code",
   "execution_count": null,
   "metadata": {},
   "outputs": [],
   "source": [
    "labels=['Positive-Neutral','Negative-Neutral']\n",
    "clevs=np.arange(-3,3.5,0.5)\n",
    "\n",
    "# Define the figure and each axis for the 3 rows and 3 columns\n",
    "fig, axs = plt.subplots(nrows=2,ncols=1,\n",
    "                        subplot_kw={'projection': ccrs.PlateCarree()},\n",
    "                        figsize=(8.5,11))\n",
    "\n",
    "# axs is a 2 dimensional array of `GeoAxes`.  \n",
    "# We will flatten it into a 1-D array\n",
    "axs = axs.flatten()\n",
    "\n",
    "#Loop over all of the seasons and plot\n",
    "for i,ao in enumerate(diff_soil):\n",
    "\n",
    "        # Select the season\n",
    "        data = diff_soil[i]\n",
    "\n",
    "        # Add the cyclic point\n",
    "        data,lons = add_cyclic_point(data,coord=diff_precip[i]['lon'])\n",
    "\n",
    "        # Contour plot\n",
    "        cs = axs[i].contourf(lons,diff_precip[i]['lat'],data,clevs,\n",
    "                          transform=ccrs.PlateCarree(),\n",
    "                          cmap='BrBG',extend='both')\n",
    "\n",
    "       # Longitude labels\n",
    "        axs[i].set_xticks(np.arange(-180,181,60), crs=ccrs.PlateCarree())\n",
    "        lon_formatter = cticker.LongitudeFormatter()\n",
    "        axs[i].xaxis.set_major_formatter(lon_formatter)\n",
    "\n",
    "        # Latitude labels\n",
    "        axs[i].set_yticks(np.arange(-90,91,30), crs=ccrs.PlateCarree())\n",
    "        lat_formatter = cticker.LatitudeFormatter()\n",
    "        axs[i].yaxis.set_major_formatter(lat_formatter)\n",
    "\n",
    "        \n",
    "        # Title each subplot with the name of the season\n",
    "        axs[i].set_title(labels[i])\n",
    "\n",
    "        # Draw the coastines for each subplot\n",
    "        axs[i].coastlines()\n",
    "        \n",
    "# Adjust the location of the subplots \n",
    "# on the page to make room for the colorbar\n",
    "fig.subplots_adjust(bottom=0.25, top=0.9, left=0.05, right=0.95,\n",
    "                    wspace=0.1, hspace=0.5)\n",
    "\n",
    "# Add a colorbar axis at the bottom of the graph\n",
    "cbar_ax = fig.add_axes([0.25, 0.18, 0.5, 0.012])\n",
    "\n",
    "# Draw the colorbar\n",
    "cbar = fig.colorbar(cs, cax=cbar_ax,orientation='horizontal',label='mm')\n",
    "\n",
    "# Add a big title at the top\n",
    "plt.suptitle('Composite Soil Differences during Arctic Oscillation')"
   ]
  },
  {
   "cell_type": "code",
   "execution_count": null,
   "metadata": {},
   "outputs": [],
   "source": [
    "p = 0.05\n",
    "\n",
    "positive_soil_vals = ds_anoms.sel(time=Positive.dropna(dim='time')['time'])\n",
    "negative_soil_vals = ds_anoms.sel(time=Negative.dropna(dim='time')['time'])\n",
    "neutral_soil_vals = ds_anoms.sel(time=Neutral.dropna(dim='time')['time'])\n",
    "\n",
    "tstat,pval = ttest_ind(positive_soil_vals, \n",
    "                neutral_soil_vals, \n",
    "                equal_var = False)\n",
    "\n",
    "mask_diff = diff_soil[0].where(pval <= p)"
   ]
  },
  {
   "cell_type": "code",
   "execution_count": null,
   "metadata": {},
   "outputs": [],
   "source": [
    "labels=['Positive vs. Neutral']\n",
    "clevs=np.arange(-3,3.5,0.5)\n",
    "hatch_levs=[0]\n",
    "\n",
    "# Define the figure and each axis for the 2 rows and 1 columns\n",
    "fig, axs = plt.subplots(nrows=1,ncols=1,\n",
    "                        subplot_kw={'projection': ccrs.PlateCarree(central_longitude=200.0)})\n",
    "\n",
    "\n",
    "data=diff_soil[0]\n",
    "\n",
    "# Add the cyclic point\n",
    "data,lons=add_cyclic_point(data,coord=diff_precip[0]['lon'])\n",
    "mask_data,lons=add_cyclic_point(mask_diff,coord=diff_precip[0]['lon'])\n",
    "\n",
    "# Contour plot\n",
    "cs=axs.contourf(lons,diff_precip[0]['lat'],data,clevs,\n",
    "                transform = ccrs.PlateCarree(),\n",
    "                cmap='BrBG',extend='both')\n",
    "\n",
    "# Overlay of stippling\n",
    "ss=axs.contourf(lons,diff_precip[0]['lat'],mask_data,[0,1],\n",
    "                transform = ccrs.PlateCarree(),colors=['None'],\n",
    "                hatches=['///',''],extend='both',alpha=0.0)\n",
    "\n",
    "# Draw the coastines for each subplot\n",
    "axs.coastlines()\n",
    "        \n",
    "# Adjust the location of the subplots \n",
    "# on the page to make room for the colorbar\n",
    "fig.subplots_adjust(bottom=0.25, top=0.9, left=0.05, right=0.95,\n",
    "                    wspace=0.1, hspace=0.5)\n",
    "\n",
    "# Add a colorbar axis at the bottom of the graph\n",
    "cbar_ax = fig.add_axes([0.15, 0.18, 0.7, 0.025])\n",
    "\n",
    "# Draw the colorbar\n",
    "cbar = fig.colorbar(cs,cax=cbar_ax,orientation='horizontal',label='mm')\n",
    "\n",
    "# Add a big title at the top\n",
    "plt.suptitle('Composite Soil Differences Positive-Neutral')"
   ]
  }
 ],
 "metadata": {
  "kernelspec": {
   "display_name": "climate",
   "language": "python",
   "name": "python3"
  },
  "language_info": {
   "codemirror_mode": {
    "name": "ipython",
    "version": 3
   },
   "file_extension": ".py",
   "mimetype": "text/x-python",
   "name": "python",
   "nbconvert_exporter": "python",
   "pygments_lexer": "ipython3",
   "version": "3.12.6"
  }
 },
 "nbformat": 4,
 "nbformat_minor": 2
}
