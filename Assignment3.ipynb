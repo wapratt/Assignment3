{
 "cells": [
  {
   "cell_type": "code",
   "execution_count": 1,
   "metadata": {},
   "outputs": [],
   "source": [
    "import xarray as xr\n",
    "import matplotlib.pyplot as plt\n",
    "import numpy as np\n",
    "import pandas as pd\n",
    "\n",
    "import cartopy.crs as ccrs\n",
    "import cartopy.mpl.ticker as cticker\n",
    "from cartopy.util import add_cyclic_point\n",
    "\n",
    "import warnings\n",
    "warnings.simplefilter(action='ignore', category=FutureWarning)"
   ]
  },
  {
   "cell_type": "code",
   "execution_count": 2,
   "metadata": {},
   "outputs": [
    {
     "name": "stderr",
     "output_type": "stream",
     "text": [
      "/home/wpratt3/miniforge/envs/climate/lib/python3.12/site-packages/xarray/coding/times.py:992: SerializationWarning: Unable to decode time axis into full numpy.datetime64 objects, continuing using cftime.datetime objects instead, reason: dates out of range\n",
      "  dtype = _decode_cf_datetime_dtype(data, units, calendar, self.use_cftime)\n",
      "/home/wpratt3/miniforge/envs/climate/lib/python3.12/site-packages/xarray/core/indexing.py:526: SerializationWarning: Unable to decode time axis into full numpy.datetime64 objects, continuing using cftime.datetime objects instead, reason: dates out of range\n",
      "  return np.asarray(self.get_duck_array(), dtype=dtype)\n"
     ]
    }
   ],
   "source": [
    "ds_soil = xr.open_dataset('/home/wpratt3/Clim680/Data/soilw.mon.1991-2020.ltm.v2.nc')\n",
    "ds_climo = ds_soil.groupby('time.month').mean()\n",
    "ds_anoms = ds_soil.groupby('time.month')-ds_climo"
   ]
  },
  {
   "cell_type": "code",
   "execution_count": 5,
   "metadata": {},
   "outputs": [
    {
     "ename": "NameError",
     "evalue": "name 'positive' is not defined",
     "output_type": "error",
     "traceback": [
      "\u001b[0;31m---------------------------------------------------------------------------\u001b[0m",
      "\u001b[0;31mNameError\u001b[0m                                 Traceback (most recent call last)",
      "\u001b[1;32m/home/wpratt3/Clim680/Assignment3/Assignment3.ipynb Cell 3\u001b[0m line \u001b[0;36m2\n\u001b[1;32m      <a href='vscode-notebook-cell://ondemand.orc.gmu.edu/home/wpratt3/Clim680/Assignment3/Assignment3.ipynb#W2sdnNjb2RlLXJlbW90ZQ%3D%3D?line=0'>1</a>\u001b[0m \u001b[39m#How will I make linkage between time in xarray time variable & year/month in numpy array?\u001b[39;00m\n\u001b[0;32m----> <a href='vscode-notebook-cell://ondemand.orc.gmu.edu/home/wpratt3/Clim680/Assignment3/Assignment3.ipynb#W2sdnNjb2RlLXJlbW90ZQ%3D%3D?line=1'>2</a>\u001b[0m positive_soil \u001b[39m=\u001b[39m ds_anoms\u001b[39m.\u001b[39msel(time\u001b[39m=\u001b[39mpositive\u001b[39m.\u001b[39mdropna(dim\u001b[39m=\u001b[39m\u001b[39m'\u001b[39m\u001b[39mtime\u001b[39m\u001b[39m'\u001b[39m)[\u001b[39m'\u001b[39m\u001b[39mtime\u001b[39m\u001b[39m'\u001b[39m])\u001b[39m.\u001b[39mmean(dim\u001b[39m=\u001b[39m\u001b[39m'\u001b[39m\u001b[39mtime\u001b[39m\u001b[39m'\u001b[39m)\n\u001b[1;32m      <a href='vscode-notebook-cell://ondemand.orc.gmu.edu/home/wpratt3/Clim680/Assignment3/Assignment3.ipynb#W2sdnNjb2RlLXJlbW90ZQ%3D%3D?line=2'>3</a>\u001b[0m negative_soil \u001b[39m=\u001b[39m ds_anoms\u001b[39m.\u001b[39msel(time\u001b[39m=\u001b[39mnegative\u001b[39m.\u001b[39mdropna(dim\u001b[39m=\u001b[39m\u001b[39m'\u001b[39m\u001b[39mtime\u001b[39m\u001b[39m'\u001b[39m)[\u001b[39m'\u001b[39m\u001b[39mtime\u001b[39m\u001b[39m'\u001b[39m])\u001b[39m.\u001b[39mmean(dim\u001b[39m=\u001b[39m\u001b[39m'\u001b[39m\u001b[39mtime\u001b[39m\u001b[39m'\u001b[39m)\n\u001b[1;32m      <a href='vscode-notebook-cell://ondemand.orc.gmu.edu/home/wpratt3/Clim680/Assignment3/Assignment3.ipynb#W2sdnNjb2RlLXJlbW90ZQ%3D%3D?line=3'>4</a>\u001b[0m neutral_soil \u001b[39m=\u001b[39m ds_anoms\u001b[39m.\u001b[39msel(time\u001b[39m=\u001b[39mneutral\u001b[39m.\u001b[39mdropna(dim\u001b[39m=\u001b[39m\u001b[39m'\u001b[39m\u001b[39mtime\u001b[39m\u001b[39m'\u001b[39m)[\u001b[39m'\u001b[39m\u001b[39mtime\u001b[39m\u001b[39m'\u001b[39m])\u001b[39m.\u001b[39mmean(dim\u001b[39m=\u001b[39m\u001b[39m'\u001b[39m\u001b[39mtime\u001b[39m\u001b[39m'\u001b[39m)\n",
      "\u001b[0;31mNameError\u001b[0m: name 'positive' is not defined"
     ]
    }
   ],
   "source": [
    "#How will I make linkage between time in xarray time variable & year/month in numpy array?\n",
    "positive_soil = ds_anoms.sel(time=positive.dropna(dim='time')['time']).mean(dim='time')\n",
    "negative_soil = ds_anoms.sel(time=negative.dropna(dim='time')['time']).mean(dim='time')\n",
    "neutral_soil = ds_anoms.sel(time=neutral.dropna(dim='time')['time']).mean(dim='time')"
   ]
  },
  {
   "cell_type": "code",
   "execution_count": 6,
   "metadata": {},
   "outputs": [],
   "source": [
    "file_ao_index= '/home/wpratt3/Clim680/Assignment3/ao_index.txt'\n",
    "np_array = np.loadtxt(fname=file_ao_index)\n",
    "np_array[:,2]\n",
    "\n",
    "file_arctic_index = '/home/wpratt3/Clim680/Assignment3/arctic_index.txt'\n",
    "np_array_index = np.loadtxt(fname=file_arctic_index, skiprows= 1, usecols= (1, 2, 3, 4, 5, 6, 7, 8, 9, 10, 11, 12), max_rows= 75)\n",
    "np_array_years = np.loadtxt(fname=file_arctic_index, skiprows= 1, usecols= 0, max_rows= 75)"
   ]
  },
  {
   "cell_type": "code",
   "execution_count": 11,
   "metadata": {},
   "outputs": [
    {
     "data": {
      "text/plain": [
       "numpy.ndarray"
      ]
     },
     "execution_count": 11,
     "metadata": {},
     "output_type": "execute_result"
    }
   ],
   "source": [
    "#Subset the time of the arctic oscilliation data to match the soils (1991-2020)\n",
    "#np_array_years.where((np_array_years>=1991.)&(np_array_years<=2020.))\n",
    "\n",
    "type(np_array_years)"
   ]
  },
  {
   "cell_type": "code",
   "execution_count": null,
   "metadata": {},
   "outputs": [
    {
     "ename": "AttributeError",
     "evalue": "'numpy.ndarray' object has no attribute 'where'",
     "output_type": "error",
     "traceback": [
      "\u001b[0;31m---------------------------------------------------------------------------\u001b[0m",
      "\u001b[0;31mAttributeError\u001b[0m                            Traceback (most recent call last)",
      "\u001b[1;32m/home/wpratt3/Clim680/Assignment3/Assignment3.ipynb Cell 3\u001b[0m line \u001b[0;36m1\n\u001b[0;32m----> <a href='vscode-notebook-cell://ondemand.orc.gmu.edu/home/wpratt3/Clim680/Assignment3/Assignment3.ipynb#W2sdnNjb2RlLXJlbW90ZQ%3D%3D?line=0'>1</a>\u001b[0m positive \u001b[39m=\u001b[39m np_array_index\u001b[39m.\u001b[39;49mwhere(np_array_index\u001b[39m>\u001b[39m\u001b[39m=\u001b[39m\u001b[39m1\u001b[39m) \u001b[39m# nans where false and unaltered where true if only first parameter given\u001b[39;00m\n\u001b[1;32m      <a href='vscode-notebook-cell://ondemand.orc.gmu.edu/home/wpratt3/Clim680/Assignment3/Assignment3.ipynb#W2sdnNjb2RlLXJlbW90ZQ%3D%3D?line=1'>2</a>\u001b[0m \u001b[39m#positive = np_array[:,2].where(np_array[:,2]>=1) # nans where false and unaltered where true if only first parameter given\u001b[39;00m\n\u001b[1;32m      <a href='vscode-notebook-cell://ondemand.orc.gmu.edu/home/wpratt3/Clim680/Assignment3/Assignment3.ipynb#W2sdnNjb2RlLXJlbW90ZQ%3D%3D?line=2'>3</a>\u001b[0m \u001b[39m#negative = np_array[:,2].where(np_array[:,2]<=-1)\u001b[39;00m\n\u001b[1;32m      <a href='vscode-notebook-cell://ondemand.orc.gmu.edu/home/wpratt3/Clim680/Assignment3/Assignment3.ipynb#W2sdnNjb2RlLXJlbW90ZQ%3D%3D?line=3'>4</a>\u001b[0m \u001b[39m#neutral = np_array[:,2].where((np_array[:,2]>-1) & (np_array[:,2]<1))\u001b[39;00m\n",
      "\u001b[0;31mAttributeError\u001b[0m: 'numpy.ndarray' object has no attribute 'where'"
     ]
    }
   ],
   "source": [
    "#Categorize the arctic oscillation by month\n",
    "positive = np_array_index.where(np_array_index>=1) # nans where false and unaltered where true if only first parameter given\n",
    "positive = np_array[:,2].where(np_array[:,2]>=1) # nans where false and unaltered where true if only first parameter given\n",
    "negative = np_array[:,2].where(np_array[:,2]<=-1)\n",
    "neutral = np_array[:,2].where((np_array[:,2]>-1) & (np_array[:,2]<1))"
   ]
  }
 ],
 "metadata": {
  "kernelspec": {
   "display_name": "climate",
   "language": "python",
   "name": "python3"
  },
  "language_info": {
   "codemirror_mode": {
    "name": "ipython",
    "version": 3
   },
   "file_extension": ".py",
   "mimetype": "text/x-python",
   "name": "python",
   "nbconvert_exporter": "python",
   "pygments_lexer": "ipython3",
   "version": "3.12.6"
  }
 },
 "nbformat": 4,
 "nbformat_minor": 2
}
